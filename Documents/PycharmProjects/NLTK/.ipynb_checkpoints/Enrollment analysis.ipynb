{
 "cells": [
  {
   "cell_type": "code",
   "execution_count": 1,
   "metadata": {
    "collapsed": true
   },
   "outputs": [],
   "source": [
    "import pandas as pd\n",
    "import numpy as np\n",
    "from datascience import *\n",
    "from __future__ import unicode_literals"
   ]
  },
  {
   "cell_type": "code",
   "execution_count": 2,
   "metadata": {
    "collapsed": true
   },
   "outputs": [],
   "source": [
    "%matplotlib inline\n",
    "import matplotlib.pyplot as plots\n",
    "plots.style.use('fivethirtyeight')"
   ]
  },
  {
   "cell_type": "code",
   "execution_count": 3,
   "metadata": {
    "collapsed": true
   },
   "outputs": [],
   "source": [
    "import warnings\n",
    "warnings.simplefilter('ignore', FutureWarning)\n",
    "\n",
    "from ipywidgets import interact, interactive, fixed, interact_manual\n",
    "import ipywidgets as widgets"
   ]
  },
  {
   "cell_type": "code",
   "execution_count": 4,
   "metadata": {
    "collapsed": true
   },
   "outputs": [],
   "source": [
    "fall_2017 = Table.read_table(\"Fall_2017.csv\")"
   ]
  },
  {
   "cell_type": "code",
   "execution_count": 15,
   "metadata": {},
   "outputs": [
    {
     "data": {
      "text/html": [
       "<table border=\"1\" class=\"dataframe\">\n",
       "    <thead>\n",
       "        <tr>\n",
       "            <th>Campus Dept</th> <th>Destiny ID</th> <th>Section Title</th> <th>Course Control No.</th> <th>Enrollment Count</th>\n",
       "        </tr>\n",
       "    </thead>\n",
       "    <tbody>\n",
       "        <tr>\n",
       "            <td>COMPSCI    </td> <td>X125019   </td> <td>Directed Group Studies for Advanced Undergraduates          </td> <td>64080             </td> <td>2               </td>\n",
       "        </tr>\n",
       "    </tbody>\n",
       "        <tr>\n",
       "            <td>COMPSCI    </td> <td>X125019   </td> <td>Matlab for Programmers                                      </td> <td>38518             </td> <td>1               </td>\n",
       "        </tr>\n",
       "    </tbody>\n",
       "        <tr>\n",
       "            <td>COMPSCI    </td> <td>X124313   </td> <td>Directed Group Studies for Advanced Undergraduates          </td> <td>64071             </td> <td>2               </td>\n",
       "        </tr>\n",
       "    </tbody>\n",
       "        <tr>\n",
       "            <td>COMPSCI    </td> <td>X124471   </td> <td>Data Structures                                             </td> <td>38772             </td> <td>31              </td>\n",
       "        </tr>\n",
       "    </tbody>\n",
       "        <tr>\n",
       "            <td>COMPSCI    </td> <td>X124404   </td> <td>Foundations of Data Science                                 </td> <td>42193             </td> <td>38              </td>\n",
       "        </tr>\n",
       "    </tbody>\n",
       "        <tr>\n",
       "            <td>ENGIN      </td> <td>X124472   </td> <td>Visualization for Design                                    </td> <td>39300             </td> <td>2               </td>\n",
       "        </tr>\n",
       "    </tbody>\n",
       "        <tr>\n",
       "            <td>ENGIN      </td> <td>X125019   </td> <td>Visualization for Design                                    </td> <td>39300             </td> <td>2               </td>\n",
       "        </tr>\n",
       "    </tbody>\n",
       "        <tr>\n",
       "            <td>ENGIN      </td> <td>X125019   </td> <td>Perspectives in Engineering                                 </td> <td>39339             </td> <td>2               </td>\n",
       "        </tr>\n",
       "    </tbody>\n",
       "        <tr>\n",
       "            <td>INDENG     </td> <td>X124472   </td> <td>Advanced Topics in Industrial Engr & Operations Research ...</td> <td>46368             </td> <td>2               </td>\n",
       "        </tr>\n",
       "    </tbody>\n",
       "        <tr>\n",
       "            <td>INFO       </td> <td>X124472   </td> <td>User Interface Design and Development                       </td> <td>40472             </td> <td>1               </td>\n",
       "        </tr>\n",
       "    </tbody>\n",
       "</table>\n",
       "<p>... (2920 rows omitted)</p"
      ],
      "text/plain": [
       "Campus Dept | Destiny ID | Section Title                                                | Course Control No. | Enrollment Count\n",
       "COMPSCI     | X125019    | Directed Group Studies for Advanced Undergraduates           | 64080              | 2\n",
       "COMPSCI     | X125019    | Matlab for Programmers                                       | 38518              | 1\n",
       "COMPSCI     | X124313    | Directed Group Studies for Advanced Undergraduates           | 64071              | 2\n",
       "COMPSCI     | X124471    | Data Structures                                              | 38772              | 31\n",
       "COMPSCI     | X124404    | Foundations of Data Science                                  | 42193              | 38\n",
       "ENGIN       | X124472    | Visualization for Design                                     | 39300              | 2\n",
       "ENGIN       | X125019    | Visualization for Design                                     | 39300              | 2\n",
       "ENGIN       | X125019    | Perspectives in Engineering                                  | 39339              | 2\n",
       "INDENG      | X124472    | Advanced Topics in Industrial Engr & Operations Research ... | 46368              | 2\n",
       "INFO        | X124472    | User Interface Design and Development                        | 40472              | 1\n",
       "... (2920 rows omitted)"
      ]
     },
     "execution_count": 15,
     "metadata": {},
     "output_type": "execute_result"
    }
   ],
   "source": [
    "fall_2017"
   ]
  },
  {
   "cell_type": "code",
   "execution_count": 63,
   "metadata": {},
   "outputs": [
    {
     "data": {
      "text/plain": [
       "2930"
      ]
     },
     "execution_count": 63,
     "metadata": {},
     "output_type": "execute_result"
    }
   ],
   "source": [
    "bga_or_not = []\n",
    "for i in np.arange(fall_2017.num_rows):\n",
    "    if fall_2017.column('Destiny ID').item(i) in fall_enrol.column('EID'):\n",
    "        bga_or_not = np.append(bga_or_not, 'bga')\n",
    "    else:\n",
    "        bga_or_not = np.append(bga_or_not, 'not_bga')"
   ]
  },
  {
   "cell_type": "code",
   "execution_count": 64,
   "metadata": {
    "collapsed": true
   },
   "outputs": [],
   "source": [
    "fall_2017 = fall_2017.with_columns('BGA', bga_or_not)"
   ]
  },
  {
   "cell_type": "code",
   "execution_count": 75,
   "metadata": {},
   "outputs": [
    {
     "data": {
      "text/html": [
       "<table border=\"1\" class=\"dataframe\">\n",
       "    <thead>\n",
       "        <tr>\n",
       "            <th>Campus Dept</th> <th>Destiny ID</th> <th>Section Title</th> <th>Course Control No.</th> <th>Enrollment Count</th> <th>BGA</th>\n",
       "        </tr>\n",
       "    </thead>\n",
       "    <tbody>\n",
       "        <tr>\n",
       "            <td>MATSCI     </td> <td>X125744   </td> <td>Semiconductor Materials    </td> <td>39506             </td> <td>3               </td> <td>bga </td>\n",
       "        </tr>\n",
       "    </tbody>\n",
       "        <tr>\n",
       "            <td>MATSCI     </td> <td>X125838   </td> <td>Semiconductor Materials    </td> <td>39506             </td> <td>3               </td> <td>bga </td>\n",
       "        </tr>\n",
       "    </tbody>\n",
       "        <tr>\n",
       "            <td>MATH       </td> <td>X125841   </td> <td>Groups, Rings, and Fields  </td> <td>17140             </td> <td>4               </td> <td>bga </td>\n",
       "        </tr>\n",
       "    </tbody>\n",
       "        <tr>\n",
       "            <td>PHYSICS    </td> <td>X125746   </td> <td>Electromagnetism and Optics</td> <td>19510             </td> <td>13              </td> <td>bga </td>\n",
       "        </tr>\n",
       "    </tbody>\n",
       "        <tr>\n",
       "            <td>PHYSICS    </td> <td>X125746   </td> <td>Quantum Mechanics          </td> <td>19115             </td> <td>15              </td> <td>bga </td>\n",
       "        </tr>\n",
       "    </tbody>\n",
       "        <tr>\n",
       "            <td>PHYSICS    </td> <td>X125746   </td> <td>Solid State Physics        </td> <td>18817             </td> <td>15              </td> <td>bga </td>\n",
       "        </tr>\n",
       "    </tbody>\n",
       "        <tr>\n",
       "            <td>PHYSICS    </td> <td>X125744   </td> <td>Electromagnetism and Optics</td> <td>19510             </td> <td>13              </td> <td>bga </td>\n",
       "        </tr>\n",
       "    </tbody>\n",
       "        <tr>\n",
       "            <td>PHYSICS    </td> <td>X125744   </td> <td>Quantum Mechanics          </td> <td>19115             </td> <td>15              </td> <td>bga </td>\n",
       "        </tr>\n",
       "    </tbody>\n",
       "        <tr>\n",
       "            <td>PHYSICS    </td> <td>X125747   </td> <td>Electromagnetism and Optics</td> <td>19510             </td> <td>13              </td> <td>bga </td>\n",
       "        </tr>\n",
       "    </tbody>\n",
       "        <tr>\n",
       "            <td>PHYSICS    </td> <td>X125747   </td> <td>Quantum Mechanics          </td> <td>19115             </td> <td>15              </td> <td>bga </td>\n",
       "        </tr>\n",
       "    </tbody>\n",
       "</table>\n",
       "<p>... (513 rows omitted)</p"
      ],
      "text/plain": [
       "Campus Dept | Destiny ID | Section Title               | Course Control No. | Enrollment Count | BGA\n",
       "MATSCI      | X125744    | Semiconductor Materials     | 39506              | 3                | bga\n",
       "MATSCI      | X125838    | Semiconductor Materials     | 39506              | 3                | bga\n",
       "MATH        | X125841    | Groups, Rings, and Fields   | 17140              | 4                | bga\n",
       "PHYSICS     | X125746    | Electromagnetism and Optics | 19510              | 13               | bga\n",
       "PHYSICS     | X125746    | Quantum Mechanics           | 19115              | 15               | bga\n",
       "PHYSICS     | X125746    | Solid State Physics         | 18817              | 15               | bga\n",
       "PHYSICS     | X125744    | Electromagnetism and Optics | 19510              | 13               | bga\n",
       "PHYSICS     | X125744    | Quantum Mechanics           | 19115              | 15               | bga\n",
       "PHYSICS     | X125747    | Electromagnetism and Optics | 19510              | 13               | bga\n",
       "PHYSICS     | X125747    | Quantum Mechanics           | 19115              | 15               | bga\n",
       "... (513 rows omitted)"
      ]
     },
     "execution_count": 75,
     "metadata": {},
     "output_type": "execute_result"
    }
   ],
   "source": [
    "fall_2017.where('BGA', 'bga')"
   ]
  },
  {
   "cell_type": "code",
   "execution_count": 81,
   "metadata": {},
   "outputs": [
    {
     "ename": "ValueError",
     "evalue": "The column 'BGA' contains non-numerical values. A plot cannot be drawn for this column.",
     "traceback": [
      "\u001b[1;31m---------------------------------------------------------------------------\u001b[0m",
      "\u001b[1;31mValueError\u001b[0m                                Traceback (most recent call last)",
      "\u001b[1;32m<ipython-input-81-c169b8876a24>\u001b[0m in \u001b[0;36m<module>\u001b[1;34m()\u001b[0m\n\u001b[1;32m----> 1\u001b[1;33m \u001b[0mfall_2017\u001b[0m\u001b[1;33m.\u001b[0m\u001b[0mgroup\u001b[0m\u001b[1;33m(\u001b[0m\u001b[1;33m[\u001b[0m\u001b[1;34m'Campus Dept'\u001b[0m\u001b[1;33m,\u001b[0m\u001b[1;34m'BGA'\u001b[0m\u001b[1;33m]\u001b[0m\u001b[1;33m)\u001b[0m\u001b[1;33m.\u001b[0m\u001b[0mbarh\u001b[0m\u001b[1;33m(\u001b[0m\u001b[1;36m0\u001b[0m\u001b[1;33m,\u001b[0m\u001b[1;36m1\u001b[0m\u001b[1;33m)\u001b[0m\u001b[1;33m\u001b[0m\u001b[0m\n\u001b[0m",
      "\u001b[1;32m~\\AppData\\Local\\Continuum\\anaconda3\\lib\\site-packages\\datascience\\tables.py\u001b[0m in \u001b[0;36mbarh\u001b[1;34m(self, column_for_categories, select, overlay, width, **vargs)\u001b[0m\n\u001b[0;32m   2149\u001b[0m             \u001b[0maxis\u001b[0m\u001b[1;33m.\u001b[0m\u001b[0mset_ylabel\u001b[0m\u001b[1;33m(\u001b[0m\u001b[0mylabel\u001b[0m\u001b[1;33m)\u001b[0m\u001b[1;33m\u001b[0m\u001b[0m\n\u001b[0;32m   2150\u001b[0m \u001b[1;33m\u001b[0m\u001b[0m\n\u001b[1;32m-> 2151\u001b[1;33m         \u001b[0mself\u001b[0m\u001b[1;33m.\u001b[0m\u001b[0m_visualize\u001b[0m\u001b[1;33m(\u001b[0m\u001b[1;34m''\u001b[0m\u001b[1;33m,\u001b[0m \u001b[0mlabels\u001b[0m\u001b[1;33m,\u001b[0m \u001b[0myticks\u001b[0m\u001b[1;33m,\u001b[0m \u001b[0moverlay\u001b[0m\u001b[1;33m,\u001b[0m \u001b[0mdraw\u001b[0m\u001b[1;33m,\u001b[0m \u001b[0mannotate\u001b[0m\u001b[1;33m,\u001b[0m \u001b[0mwidth\u001b[0m\u001b[1;33m=\u001b[0m\u001b[0mwidth\u001b[0m\u001b[1;33m,\u001b[0m \u001b[0mheight\u001b[0m\u001b[1;33m=\u001b[0m\u001b[0mheight\u001b[0m\u001b[1;33m)\u001b[0m\u001b[1;33m\u001b[0m\u001b[0m\n\u001b[0m\u001b[0;32m   2152\u001b[0m \u001b[1;33m\u001b[0m\u001b[0m\n\u001b[0;32m   2153\u001b[0m \u001b[1;33m\u001b[0m\u001b[0m\n",
      "\u001b[1;32m~\\AppData\\Local\\Continuum\\anaconda3\\lib\\site-packages\\datascience\\tables.py\u001b[0m in \u001b[0;36m_visualize\u001b[1;34m(self, x_label, y_labels, ticks, overlay, draw, annotate, width, height)\u001b[0m\n\u001b[0;32m   2299\u001b[0m                 raise ValueError(\"The column '{0}' contains non-numerical \"\n\u001b[0;32m   2300\u001b[0m                     \u001b[1;34m\"values. A plot cannot be drawn for this column.\"\u001b[0m\u001b[1;33m\u001b[0m\u001b[0m\n\u001b[1;32m-> 2301\u001b[1;33m                     .format(label))\n\u001b[0m\u001b[0;32m   2302\u001b[0m \u001b[1;33m\u001b[0m\u001b[0m\n\u001b[0;32m   2303\u001b[0m         \u001b[0mn\u001b[0m \u001b[1;33m=\u001b[0m \u001b[0mlen\u001b[0m\u001b[1;33m(\u001b[0m\u001b[0my_labels\u001b[0m\u001b[1;33m)\u001b[0m\u001b[1;33m\u001b[0m\u001b[0m\n",
      "\u001b[1;31mValueError\u001b[0m: The column 'BGA' contains non-numerical values. A plot cannot be drawn for this column."
     ],
     "output_type": "error"
    }
   ],
   "source": [
    "fall_2017.group(['Campus Dept','BGA']).barh()"
   ]
  },
  {
   "cell_type": "code",
   "execution_count": 39,
   "metadata": {},
   "outputs": [
    {
     "data": {
      "text/html": [
       "<table border=\"1\" class=\"dataframe\">\n",
       "    <thead>\n",
       "        <tr>\n",
       "            <th>EID</th> <th>Institution</th>\n",
       "        </tr>\n",
       "    </thead>\n",
       "    <tbody>\n",
       "        <tr>\n",
       "            <td>X111581</td> <td>SAF        </td>\n",
       "        </tr>\n",
       "    </tbody>\n",
       "        <tr>\n",
       "            <td>X122766</td> <td>SAF        </td>\n",
       "        </tr>\n",
       "    </tbody>\n",
       "        <tr>\n",
       "            <td>X122770</td> <td>SAF        </td>\n",
       "        </tr>\n",
       "    </tbody>\n",
       "        <tr>\n",
       "            <td>X122659</td> <td>SAF        </td>\n",
       "        </tr>\n",
       "    </tbody>\n",
       "        <tr>\n",
       "            <td>X122768</td> <td>SAF        </td>\n",
       "        </tr>\n",
       "    </tbody>\n",
       "        <tr>\n",
       "            <td>X122773</td> <td>SAF        </td>\n",
       "        </tr>\n",
       "    </tbody>\n",
       "        <tr>\n",
       "            <td>X122653</td> <td>SAF        </td>\n",
       "        </tr>\n",
       "    </tbody>\n",
       "        <tr>\n",
       "            <td>X122818</td> <td>SAF        </td>\n",
       "        </tr>\n",
       "    </tbody>\n",
       "        <tr>\n",
       "            <td>X122911</td> <td>SAF        </td>\n",
       "        </tr>\n",
       "    </tbody>\n",
       "        <tr>\n",
       "            <td>X122810</td> <td>SAF        </td>\n",
       "        </tr>\n",
       "    </tbody>\n",
       "</table>\n",
       "<p>... (163 rows omitted)</p"
      ],
      "text/plain": [
       "EID     | Institution\n",
       "X111581 | SAF\n",
       "X122766 | SAF\n",
       "X122770 | SAF\n",
       "X122659 | SAF\n",
       "X122768 | SAF\n",
       "X122773 | SAF\n",
       "X122653 | SAF\n",
       "X122818 | SAF\n",
       "X122911 | SAF\n",
       "X122810 | SAF\n",
       "... (163 rows omitted)"
      ]
     },
     "execution_count": 39,
     "metadata": {},
     "output_type": "execute_result"
    }
   ],
   "source": [
    "fall_enrol = Table.read_table(\"enrol_fall_2017.csv\")\n",
    "fall_enrol"
   ]
  },
  {
   "cell_type": "code",
   "execution_count": 42,
   "metadata": {},
   "outputs": [],
   "source": [
    "bga_enrol = fall_2017.join('Destiny ID', fall_enrol, 'EID')"
   ]
  },
  {
   "cell_type": "code",
   "execution_count": 54,
   "metadata": {},
   "outputs": [
    {
     "data": {
      "text/html": [
       "<table border=\"1\" class=\"dataframe\">\n",
       "    <thead>\n",
       "        <tr>\n",
       "            <th>Destiny ID</th> <th>Campus Dept</th> <th>Section Title</th> <th>Course Control No.</th> <th>Enrollment Count</th> <th>Institution</th>\n",
       "        </tr>\n",
       "    </thead>\n",
       "    <tbody>\n",
       "        <tr>\n",
       "            <td>X072039   </td> <td>EPS        </td> <td>Introduction to Climate Change              </td> <td>44687             </td> <td>4               </td> <td>Xian Jiaotong University (School of Science)</td>\n",
       "        </tr>\n",
       "    </tbody>\n",
       "        <tr>\n",
       "            <td>X072039   </td> <td>EPS        </td> <td>Planetary Astrophysics                      </td> <td>14244             </td> <td>1               </td> <td>Xian Jiaotong University (School of Science)</td>\n",
       "        </tr>\n",
       "    </tbody>\n",
       "        <tr>\n",
       "            <td>X072039   </td> <td>MATH       </td> <td>Mathematical Tools for the Physical Sciences</td> <td>17178             </td> <td>1               </td> <td>Xian Jiaotong University (School of Science)</td>\n",
       "        </tr>\n",
       "    </tbody>\n",
       "        <tr>\n",
       "            <td>X098165   </td> <td>COMPSCI    </td> <td>Data Structures                             </td> <td>38772             </td> <td>31              </td> <td>BIT                                         </td>\n",
       "        </tr>\n",
       "    </tbody>\n",
       "        <tr>\n",
       "            <td>X098165   </td> <td>COMPSCI    </td> <td>Foundations of Data Science                 </td> <td>42193             </td> <td>38              </td> <td>BIT                                         </td>\n",
       "        </tr>\n",
       "    </tbody>\n",
       "        <tr>\n",
       "            <td>X101406   </td> <td>UGBA       </td> <td>Advanced Financial Accounting               </td> <td>10604             </td> <td>2               </td> <td>Xiangfei                                    </td>\n",
       "        </tr>\n",
       "    </tbody>\n",
       "        <tr>\n",
       "            <td>X101406   </td> <td>UGBA       </td> <td>Auditing                                    </td> <td>10642             </td> <td>9               </td> <td>Xiangfei                                    </td>\n",
       "        </tr>\n",
       "    </tbody>\n",
       "        <tr>\n",
       "            <td>X108191   </td> <td>MATH       </td> <td>Supervised Independent Study and Research   </td> <td>17069             </td> <td>1               </td> <td>Xian Jiaotong University (School of Math)   </td>\n",
       "        </tr>\n",
       "    </tbody>\n",
       "        <tr>\n",
       "            <td>X108191   </td> <td>MATH       </td> <td>Complex Manifolds                           </td> <td>45432             </td> <td>2               </td> <td>Xian Jiaotong University (School of Math)   </td>\n",
       "        </tr>\n",
       "    </tbody>\n",
       "        <tr>\n",
       "            <td>X108191   </td> <td>MATH       </td> <td>Topics in Partial Differential Equations    </td> <td>46526             </td> <td>1               </td> <td>Xian Jiaotong University (School of Math)   </td>\n",
       "        </tr>\n",
       "    </tbody>\n",
       "</table>\n",
       "<p>... (513 rows omitted)</p"
      ],
      "text/plain": [
       "Destiny ID | Campus Dept | Section Title                                | Course Control No. | Enrollment Count | Institution\n",
       "X072039    | EPS         | Introduction to Climate Change               | 44687              | 4                | Xian Jiaotong University (School of Science)\n",
       "X072039    | EPS         | Planetary Astrophysics                       | 14244              | 1                | Xian Jiaotong University (School of Science)\n",
       "X072039    | MATH        | Mathematical Tools for the Physical Sciences | 17178              | 1                | Xian Jiaotong University (School of Science)\n",
       "X098165    | COMPSCI     | Data Structures                              | 38772              | 31               | BIT\n",
       "X098165    | COMPSCI     | Foundations of Data Science                  | 42193              | 38               | BIT\n",
       "X101406    | UGBA        | Advanced Financial Accounting                | 10604              | 2                | Xiangfei\n",
       "X101406    | UGBA        | Auditing                                     | 10642              | 9                | Xiangfei\n",
       "X108191    | MATH        | Supervised Independent Study and Research    | 17069              | 1                | Xian Jiaotong University (School of Math)\n",
       "X108191    | MATH        | Complex Manifolds                            | 45432              | 2                | Xian Jiaotong University (School of Math)\n",
       "X108191    | MATH        | Topics in Partial Differential Equations     | 46526              | 1                | Xian Jiaotong University (School of Math)\n",
       "... (513 rows omitted)"
      ]
     },
     "execution_count": 54,
     "metadata": {},
     "output_type": "execute_result"
    }
   ],
   "source": [
    "bga_enrol"
   ]
  },
  {
   "cell_type": "code",
   "execution_count": 55,
   "metadata": {
    "scrolled": true
   },
   "outputs": [
    {
     "data": {
      "text/plain": [
       "(901, 170)"
      ]
     },
     "execution_count": 55,
     "metadata": {},
     "output_type": "execute_result"
    }
   ],
   "source": [
    "len(set(fall_2017.column(1))), len(set(bga_enrol.column(0)))"
   ]
  },
  {
   "cell_type": "code",
   "execution_count": 8,
   "metadata": {
    "scrolled": true
   },
   "outputs": [],
   "source": [
    "courses = []\n",
    "for i in np.arange((fall_2017.group(list(fall_2017)[2]).select(0)).num_rows):\n",
    "    courses = np.append(courses, fall_2017.group(list(fall_2017)[2]).column(0).item(i))"
   ]
  },
  {
   "cell_type": "code",
   "execution_count": 9,
   "metadata": {},
   "outputs": [],
   "source": [
    "depts = []\n",
    "for i in np.arange((fall_2017.group(list(fall_2017)[0]).select(0)).num_rows):\n",
    "    depts = np.append(depts, fall_2017.group(list(fall_2017)[0]).column(0).item(i))"
   ]
  },
  {
   "cell_type": "code",
   "execution_count": 10,
   "metadata": {
    "scrolled": false
   },
   "outputs": [],
   "source": [
    "dept = list(set(fall_2017.column(0)))"
   ]
  },
  {
   "cell_type": "code",
   "execution_count": 45,
   "metadata": {
    "collapsed": true
   },
   "outputs": [],
   "source": [
    "def course_dist(campus_dept):\n",
    "    courses = bga_enrol.where('Campus Dept', campus_dept).group('Section Title').sort('count', descending=True)\n",
    "    return print(courses.show(), courses.barh('Section Title'))"
   ]
  },
  {
   "cell_type": "code",
   "execution_count": 49,
   "metadata": {
    "collapsed": true
   },
   "outputs": [],
   "source": [
    "dept_list = list(set(bga_enrol.column(1)))\n",
    "dept_list.sort()"
   ]
  },
  {
   "cell_type": "code",
   "execution_count": 50,
   "metadata": {
    "scrolled": false
   },
   "outputs": [
    {
     "data": {
      "text/plain": [
       "A Jupyter Widget"
      ]
     },
     "metadata": {},
     "output_type": "display_data"
    }
   ],
   "source": [
    "_ = interact(course_dist, campus_dept= dept_list)"
   ]
  },
  {
   "cell_type": "code",
   "execution_count": null,
   "metadata": {
    "collapsed": true
   },
   "outputs": [],
   "source": [
    ""
   ]
  }
 ],
 "metadata": {
  "kernelspec": {
   "display_name": "Python 3",
   "language": "python",
   "name": "python3"
  },
  "language_info": {
   "codemirror_mode": {
    "name": "ipython",
    "version": 3.0
   },
   "file_extension": ".py",
   "mimetype": "text/x-python",
   "name": "python",
   "nbconvert_exporter": "python",
   "pygments_lexer": "ipython3",
   "version": "3.6.2"
  }
 },
 "nbformat": 4,
 "nbformat_minor": 0
}